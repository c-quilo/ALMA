{
 "cells": [
  {
   "cell_type": "code",
   "execution_count": null,
   "metadata": {},
   "outputs": [
    {
     "name": "stdout",
     "output_type": "stream",
     "text": [
      "🔄 Resuming from checkpoint: reclassified_papers_checkpoint.csv\n"
     ]
    },
    {
     "name": "stderr",
     "output_type": "stream",
     "text": [
      "Classifying Papers:  46%|████▌     | 1782/3854 [01:23<01:36, 21.40it/s, Last Processed=Converting surface-oxidized cobalt phosphides into..., Catalysis=electro, Theme=water]\n",
      "Classifying Papers:  47%|████▋     | 1799/3854 [00:47<01:31, 22.50it/s, Last Processed=Graphene, related two-dimensional crystals, and hy..., Catalysis=photo, Theme=water]            "
     ]
    },
    {
     "name": "stdout",
     "output_type": "stream",
     "text": [
      "💾 Checkpoint saved at 1800 papers.\n"
     ]
    },
    {
     "name": "stderr",
     "output_type": "stream",
     "text": [
      "Classifying Papers:  48%|████▊     | 1849/3854 [01:37<11:21,  2.94it/s, Last Processed=Statistical Evaluation of HTS Assays for Enzymatic..., Catalysis=bio, Theme=enzyme]             "
     ]
    },
    {
     "name": "stdout",
     "output_type": "stream",
     "text": [
      "💾 Checkpoint saved at 1850 papers.\n"
     ]
    },
    {
     "name": "stderr",
     "output_type": "stream",
     "text": [
      "Classifying Papers:  49%|████▉     | 1900/3854 [02:25<30:28,  1.07it/s, Last Processed=Recent Advances in MOF-based Nanocatalysts for Pho..., Catalysis=photo, Theme=co2 utilisation]  "
     ]
    },
    {
     "name": "stdout",
     "output_type": "stream",
     "text": [
      "💾 Checkpoint saved at 1900 papers.\n"
     ]
    },
    {
     "name": "stderr",
     "output_type": "stream",
     "text": [
      "Classifying Papers:  51%|█████     | 1950/3854 [03:16<24:48,  1.28it/s, Last Processed=Nanoparticles as Emerging Labels in Electrochemica..., Catalysis=electro, Theme=enzyme]        "
     ]
    },
    {
     "name": "stdout",
     "output_type": "stream",
     "text": [
      "💾 Checkpoint saved at 1950 papers.\n"
     ]
    },
    {
     "name": "stderr",
     "output_type": "stream",
     "text": [
      "Classifying Papers:  52%|█████▏    | 2000/3854 [04:06<22:56,  1.35it/s, Last Processed=Formation of Polarized, Functional Artificial Cell..., Catalysis=bio, Theme=enzyme]                   "
     ]
    },
    {
     "name": "stdout",
     "output_type": "stream",
     "text": [
      "💾 Checkpoint saved at 2000 papers.\n"
     ]
    },
    {
     "name": "stderr",
     "output_type": "stream",
     "text": [
      "Classifying Papers:  53%|█████▎    | 2050/3854 [04:52<35:12,  1.17s/it, Last Processed=Aligning Electronic and Protonic Energy Levels of ..., Catalysis=photo, Theme=water]                  "
     ]
    },
    {
     "name": "stdout",
     "output_type": "stream",
     "text": [
      "💾 Checkpoint saved at 2050 papers.\n"
     ]
    },
    {
     "name": "stderr",
     "output_type": "stream",
     "text": [
      "Classifying Papers:  54%|█████▍    | 2100/3854 [05:36<32:23,  1.11s/it, Last Processed=A Unified Treatment of the Relationship Between Li..., Catalysis=homo, Theme=enzyme]            "
     ]
    },
    {
     "name": "stdout",
     "output_type": "stream",
     "text": [
      "💾 Checkpoint saved at 2100 papers.\n"
     ]
    },
    {
     "name": "stderr",
     "output_type": "stream",
     "text": [
      "Classifying Papers:  56%|█████▌    | 2150/3854 [06:19<20:26,  1.39it/s, Last Processed=An Isolable Phosphaethynolatoborane and Its Reacti..., Catalysis=not_catalysis, Theme=unknown]  "
     ]
    },
    {
     "name": "stdout",
     "output_type": "stream",
     "text": [
      "💾 Checkpoint saved at 2150 papers.\n"
     ]
    },
    {
     "name": "stderr",
     "output_type": "stream",
     "text": [
      "Classifying Papers:  57%|█████▋    | 2200/3854 [07:06<31:41,  1.15s/it, Last Processed=Creation of Al‐Enriched Mesoporous ZSM‐5 Nanoboxes..., Catalysis=hetero, Theme=biomass]        "
     ]
    },
    {
     "name": "stdout",
     "output_type": "stream",
     "text": [
      "💾 Checkpoint saved at 2200 papers.\n"
     ]
    },
    {
     "name": "stderr",
     "output_type": "stream",
     "text": [
      "Classifying Papers:  58%|█████▊    | 2250/3854 [07:52<23:09,  1.15it/s, Last Processed=H<sub>2</sub>‐free Synthesis of Aromatic, Cyclic a..., Catalysis=hetero, Theme=co2 utilisation]       "
     ]
    },
    {
     "name": "stdout",
     "output_type": "stream",
     "text": [
      "💾 Checkpoint saved at 2250 papers.\n"
     ]
    },
    {
     "name": "stderr",
     "output_type": "stream",
     "text": [
      "Classifying Papers:  60%|█████▉    | 2300/3854 [08:46<44:54,  1.73s/it, Last Processed=Double emulsion production in glass capillary micr..., Catalysis=not_catalysis, Theme=co2 utilisation]"
     ]
    },
    {
     "name": "stdout",
     "output_type": "stream",
     "text": [
      "💾 Checkpoint saved at 2300 papers.\n"
     ]
    },
    {
     "name": "stderr",
     "output_type": "stream",
     "text": [
      "Classifying Papers:  61%|██████    | 2350/3854 [09:34<19:50,  1.26it/s, Last Processed=Droplet Interfaced Parallel and Quantitative Micro..., Catalysis=not_catalysis, Theme=enzyme]         "
     ]
    },
    {
     "name": "stdout",
     "output_type": "stream",
     "text": [
      "💾 Checkpoint saved at 2350 papers.\n"
     ]
    },
    {
     "name": "stderr",
     "output_type": "stream",
     "text": [
      "Classifying Papers:  62%|██████▏   | 2400/3854 [10:19<18:26,  1.31it/s, Last Processed=An Investigation into the Stability of Graphitic C..., Catalysis=photo, Theme=co2 utilisation]        "
     ]
    },
    {
     "name": "stdout",
     "output_type": "stream",
     "text": [
      "💾 Checkpoint saved at 2400 papers.\n"
     ]
    },
    {
     "name": "stderr",
     "output_type": "stream",
     "text": [
      "Classifying Papers:  64%|██████▎   | 2450/3854 [10:58<20:13,  1.16it/s, Last Processed=Strongly Enhanced Antibacterial Action of Copper O..., Catalysis=hetero, Theme=unknown]               "
     ]
    },
    {
     "name": "stdout",
     "output_type": "stream",
     "text": [
      "💾 Checkpoint saved at 2450 papers.\n"
     ]
    },
    {
     "name": "stderr",
     "output_type": "stream",
     "text": [
      "Classifying Papers:  65%|██████▍   | 2500/3854 [11:41<21:58,  1.03it/s, Last Processed=Expanding the Color Space in the Two-Color Heterog..., Catalysis=photo, Theme=biomass]          "
     ]
    },
    {
     "name": "stdout",
     "output_type": "stream",
     "text": [
      "💾 Checkpoint saved at 2500 papers.\n"
     ]
    },
    {
     "name": "stderr",
     "output_type": "stream",
     "text": [
      "Classifying Papers:  65%|██████▌   | 2519/3854 [11:59<15:35,  1.43it/s, Last Processed=Unraveling the Role of Lithium in Enhancing the Hy..., Catalysis=hetero, Theme=water]           "
     ]
    }
   ],
   "source": [
    "import os\n",
    "import pandas as pd\n",
    "import time\n",
    "from openai import OpenAI\n",
    "from tqdm import tqdm\n",
    "\n",
    "# Load OpenAI API key from environment variables\n",
    "client = OpenAI(api_key=os.getenv(\"OPENAI_API_KEY\"))\n",
    "\n",
    "# --------------------------------------------------\n",
    "# 1. Load Data\n",
    "# --------------------------------------------------\n",
    "file_path = \"./goldStandardPapers/standards_v2_140125.csv\"\n",
    "output_file = \"reclassified_papers_checkpoint.csv\"\n",
    "checkpoint_interval = 50  # Save progress every N papers\n",
    "\n",
    "df = pd.read_csv(file_path)\n",
    "\n",
    "# Extract unique labels for classification\n",
    "unique_catalysis_types = df[\"catalysis_type\"].dropna().unique().tolist()\n",
    "unique_application_themes = df[\"application_theme\"].dropna().unique().tolist()\n",
    "\n",
    "# Remove 'unknown' if it exists\n",
    "if \"unknown\" in unique_catalysis_types:\n",
    "    unique_catalysis_types.remove(\"unknown\")\n",
    "\n",
    "if \"unknown\" in unique_application_themes:\n",
    "    unique_application_themes.remove(\"unknown\")\n",
    "\n",
    "# Check if checkpoint exists\n",
    "if os.path.exists(output_file):\n",
    "    print(f\"🔄 Resuming from checkpoint: {output_file}\")\n",
    "    df_checkpoint = pd.read_csv(output_file)\n",
    "    processed_indices = df_checkpoint.dropna(subset=[\"new_catalysis_type\"]).index\n",
    "else:\n",
    "    df_checkpoint = df.copy()\n",
    "    df_checkpoint[\"new_catalysis_type\"] = None\n",
    "    df_checkpoint[\"new_application_theme\"] = None\n",
    "    processed_indices = []\n",
    "\n",
    "# --------------------------------------------------\n",
    "# 2. OpenAI Prompting Function\n",
    "# --------------------------------------------------\n",
    "def query_openai_classification(title, abstract):\n",
    "    \"\"\"\n",
    "    Query OpenAI API to classify the catalysis type and application theme based on title and abstract.\n",
    "    \"\"\"\n",
    "    if pd.isna(title) and pd.isna(abstract):\n",
    "        return \"unknown\", \"unknown\"  # Skip if no information is available\n",
    "    \n",
    "    title = title if pd.notna(title) else \"\"\n",
    "    abstract = abstract if pd.notna(abstract) else \"\"\n",
    "\n",
    "    prompt = f\"\"\"\n",
    "    You are a scientific classification assistant.\n",
    "    Given the title and abstract of a scientific paper, classify it into the most appropriate **Catalysis Type** and **Application Theme**.\n",
    "\n",
    "    ### Instructions:\n",
    "    - You **must** choose one **Catalysis Type** from this list: {', '.join(unique_catalysis_types)}.\n",
    "    - You **must** choose one **Application Theme** from this list: {', '.join(unique_application_themes)}.\n",
    "    - If the current classification is 'unknown', do your best to place it into one of the known categories.\n",
    "    - Do **not** make up new categories.\n",
    "\n",
    "    ### Input Paper:\n",
    "    **Title:** {title}\n",
    "    **Abstract:** {abstract}\n",
    "\n",
    "    ### Output Format:\n",
    "    - Catalysis Type: [Chosen Type]\n",
    "    - Application Theme: [Chosen Theme]\n",
    "    \"\"\"\n",
    "\n",
    "    response = client.chat.completions.create(\n",
    "        model=\"gpt-4o\",\n",
    "        messages=[{\"role\": \"user\", \"content\": prompt}],\n",
    "        max_tokens=300,\n",
    "        temperature=0.3\n",
    "    )\n",
    "    \n",
    "    content = response.choices[0].message.content.strip()\n",
    "\n",
    "    # Extract classified categories\n",
    "    catalysis_type = \"unknown\"\n",
    "    application_theme = \"unknown\"\n",
    "\n",
    "    if \"Catalysis Type:\" in content:\n",
    "        catalysis_type = content.split(\"Catalysis Type:\")[1].split(\"\\n\")[0].strip()\n",
    "\n",
    "    if \"Application Theme:\" in content:\n",
    "        application_theme = content.split(\"Application Theme:\")[1].split(\"\\n\")[0].strip()\n",
    "\n",
    "    # Ensure classification falls within valid categories\n",
    "    if catalysis_type not in unique_catalysis_types:\n",
    "        catalysis_type = \"unknown\"\n",
    "\n",
    "    if application_theme not in unique_application_themes:\n",
    "        application_theme = \"unknown\"\n",
    "\n",
    "    return catalysis_type, application_theme\n",
    "\n",
    "# --------------------------------------------------\n",
    "# 3. Process Each Paper and Save Checkpoints\n",
    "# --------------------------------------------------\n",
    "progress_bar = tqdm(total=len(df), desc=\"Classifying Papers\")\n",
    "\n",
    "for index, row in df.iterrows():\n",
    "    if index in processed_indices:\n",
    "        progress_bar.update(1)\n",
    "        continue  # Skip already processed rows\n",
    "    \n",
    "    title = row[\"title\"]\n",
    "    abstract = row[\"abstract\"]\n",
    "    \n",
    "    new_catalysis, new_theme = query_openai_classification(title, abstract)\n",
    "    \n",
    "    df_checkpoint.at[index, \"new_catalysis_type\"] = new_catalysis\n",
    "    df_checkpoint.at[index, \"new_application_theme\"] = new_theme\n",
    "\n",
    "    progress_bar.set_postfix({\"Last Processed\": f\"{title[:50]}...\", \"Catalysis\": new_catalysis, \"Theme\": new_theme})\n",
    "    progress_bar.update(1)\n",
    "    \n",
    "    # Save checkpoint every N iterations\n",
    "    if (index + 1) % checkpoint_interval == 0:\n",
    "        df_checkpoint.to_csv(output_file, index=False)\n",
    "        print(f\"💾 Checkpoint saved at {index + 1} papers.\")\n",
    "\n",
    "# Final save\n",
    "df_checkpoint.to_csv(output_file, index=False)\n",
    "progress_bar.close()\n",
    "\n",
    "print(f\"\\n✅ Classification complete! Results saved to '{output_file}'.\")"
   ]
  }
 ],
 "metadata": {
  "kernelspec": {
   "display_name": "ALMA",
   "language": "python",
   "name": "python3"
  },
  "language_info": {
   "codemirror_mode": {
    "name": "ipython",
    "version": 3
   },
   "file_extension": ".py",
   "mimetype": "text/x-python",
   "name": "python",
   "nbconvert_exporter": "python",
   "pygments_lexer": "ipython3",
   "version": "3.10.16"
  }
 },
 "nbformat": 4,
 "nbformat_minor": 2
}
