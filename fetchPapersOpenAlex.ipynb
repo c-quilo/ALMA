{
 "cells": [
  {
   "cell_type": "code",
   "execution_count": null,
   "metadata": {},
   "outputs": [
    {
     "name": "stdout",
     "output_type": "stream",
     "text": [
      "Number of results: 78025\n"
     ]
    },
    {
     "ename": "NameError",
     "evalue": "name 'oaid' is not defined",
     "output_type": "error",
     "traceback": [
      "\u001b[0;31m---------------------------------------------------------------------------\u001b[0m",
      "\u001b[0;31mNameError\u001b[0m                                 Traceback (most recent call last)",
      "Cell \u001b[0;32mIn[6], line 47\u001b[0m\n\u001b[1;32m     44\u001b[0m             \u001b[38;5;66;03m# Write the row to the output CSV file\u001b[39;00m\n\u001b[1;32m     45\u001b[0m             writer\u001b[38;5;241m.\u001b[39mwriterow([this_id, this_doi, this_topic_id, this_publication_year, this_cited_by, this_title, this_abstract])\n\u001b[0;32m---> 47\u001b[0m     \u001b[38;5;28mprint\u001b[39m(\u001b[38;5;124mf\u001b[39m\u001b[38;5;124m\"\u001b[39m\u001b[38;5;124mData for OAID \u001b[39m\u001b[38;5;132;01m{\u001b[39;00m\u001b[43moaid\u001b[49m\u001b[38;5;132;01m}\u001b[39;00m\u001b[38;5;124m has been written to \u001b[39m\u001b[38;5;132;01m{\u001b[39;00mfile_path\u001b[38;5;132;01m}\u001b[39;00m\u001b[38;5;124m.\u001b[39m\u001b[38;5;124m\"\u001b[39m)\n\u001b[1;32m     48\u001b[0m \u001b[38;5;28;01melse\u001b[39;00m:\n\u001b[1;32m     49\u001b[0m     \u001b[38;5;28mprint\u001b[39m(\u001b[38;5;124mf\u001b[39m\u001b[38;5;124m\"\u001b[39m\u001b[38;5;124mNo results found for OAID \u001b[39m\u001b[38;5;132;01m{\u001b[39;00moaid\u001b[38;5;132;01m}\u001b[39;00m\u001b[38;5;124m.\u001b[39m\u001b[38;5;124m\"\u001b[39m)\n",
      "\u001b[0;31mNameError\u001b[0m: name 'oaid' is not defined"
     ]
    }
   ],
   "source": [
    "from itertools import chain\n",
    "import csv\n",
    "import pandas as pd\n",
    "from pyalex import Works\n",
    "from pyalex import autocomplete\n",
    "\n",
    "pyalex.config.email = \"mail@example.com\"\n",
    "folder = 'dummyPapers'\n",
    "\n",
    "concepts = \"https://openalex.org/C161790260|https://openalex.org/C116953117|https://openalex.org/C178394782|https://openalex.org/C24411645|https://openalex.org/C2778727938|https://openalex.org/C2992084085|https://openalex.org/C2993359049|https://openalex.org/C63338738|https://openalex.org/C78030364|https://openalex.org/C12490386|https://openalex.org/C145770059|https://openalex.org/C206707181|https://openalex.org/C191503008|https://openalex.org/C95514000|https://openalex.org/C37263863|https://openalex.org/C2777380813|https://openalex.org/C65165184|https://openalex.org/C174125647|https://openalex.org/C31052017|https://openalex.org/C66972969|https://openalex.org/C69118441|https://openalex.org/C33989665|https://openalex.org/C2780452897|https://openalex.org/C118346598|https://openalex.org/C15752686|https://openalex.org/C2994149032|https://openalex.org/C143630556|https://openalex.org/C19927201|https://openalex.org/C45849291|https://openalex.org/C109474758|https://openalex.org/C129652920|https://openalex.org/C2779412933|https://openalex.org/C175583648|https://openalex.org/C2776233566|https://openalex.org/C19972892|https://openalex.org/C2778930939|https://openalex.org/C58683137|https://openalex.org/C153953470|https://openalex.org/C45083100|https://openalex.org/C72045907\"\n",
    "# Define the query for the specific author\n",
    "query = Works().filter(\n",
    "    authorships={\"institutions\": {'country_code': \"GB\"}}\n",
    ").filter(\n",
    "    type='article|preprint|book-chapter|dissertation'\n",
    ").filter(\n",
    "    publication_year='>2000'\n",
    ").filter(concepts={'id':concepts})\n",
    "\n",
    "result_count = query.count()\n",
    "print(f\"Number of results: {result_count}\")\n",
    "\n",
    "# If results --> continue\n",
    "if result_count > 0:\n",
    "    # Create a new CSV for each researcher\n",
    "    file_path = f'./{folder}/testCatalysisPapersList.csv'\n",
    "    with open(file_path, 'w', newline='') as f:\n",
    "        writer = csv.writer(f)\n",
    "\n",
    "        # Write headers\n",
    "        header = ['id', 'doi', 'topic_id', 'publication_year', 'cited_by_count', 'title', 'abstract']\n",
    "        writer.writerow(header)\n",
    "\n",
    "        # Loop through the OA works and write each row\n",
    "        for item in chain(*query.paginate(per_page=200, n_max=None)):\n",
    "            this_id = item['id']\n",
    "            this_doi = item['doi']\n",
    "            this_topic_id = item['primary_topic']['id'] if item['primary_topic'] else ''\n",
    "            this_publication_year = item['publication_year']\n",
    "            this_cited_by = item['cited_by_count']\n",
    "            this_title = item['title']\n",
    "            this_abstract = item['abstract']\n",
    "            \n",
    "            # Write the row to the output CSV file\n",
    "            writer.writerow([this_id, this_doi, this_topic_id, this_publication_year, this_cited_by, this_title, this_abstract])\n",
    "\n",
    "    print(f\"Papers have been written to {file_path}.\")\n",
    "else:\n",
    "    print(f\"No results found for topics.\")"
   ]
  },
  {
   "cell_type": "code",
   "execution_count": null,
   "metadata": {},
   "outputs": [],
   "source": []
  }
 ],
 "metadata": {
  "kernelspec": {
   "display_name": "ALMA",
   "language": "python",
   "name": "python3"
  },
  "language_info": {
   "codemirror_mode": {
    "name": "ipython",
    "version": 3
   },
   "file_extension": ".py",
   "mimetype": "text/x-python",
   "name": "python",
   "nbconvert_exporter": "python",
   "pygments_lexer": "ipython3",
   "version": "3.10.16"
  }
 },
 "nbformat": 4,
 "nbformat_minor": 2
}
