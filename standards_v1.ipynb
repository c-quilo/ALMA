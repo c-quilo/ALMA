{
 "cells": [
  {
   "cell_type": "code",
   "execution_count": 1,
   "id": "06dfafd3-7513-4b8a-9ebf-2776053aa9df",
   "metadata": {},
   "outputs": [],
   "source": [
    "from itertools import chain\n",
    "import pandas as pd\n",
    "import seaborn as sns\n",
    "import time\n",
    "from ast import literal_eval\n",
    "import matplotlib.pyplot as plt\n",
    "import numpy as np\n",
    "pd.options.display.max_columns = None"
   ]
  },
  {
   "cell_type": "code",
   "execution_count": 2,
   "id": "4da36af4-5fb1-48e0-b074-1a8bcef739e2",
   "metadata": {},
   "outputs": [],
   "source": [
    "standards = pd.read_csv('standards_v1_140125.csv')"
   ]
  },
  {
   "cell_type": "code",
   "execution_count": 3,
   "id": "183041a9-b254-41cf-8726-1f7d28bafce8",
   "metadata": {},
   "outputs": [
    {
     "data": {
      "text/plain": [
       "3856"
      ]
     },
     "execution_count": 3,
     "metadata": {},
     "output_type": "execute_result"
    }
   ],
   "source": [
    "len(standards)"
   ]
  },
  {
   "cell_type": "code",
   "execution_count": 15,
   "id": "de184816-0501-4d2d-a55f-4da27b45ae9f",
   "metadata": {},
   "outputs": [
    {
     "data": {
      "text/plain": [
       "data_source\n",
       "Lens_catalysis_filter        1944\n",
       "REF_2021_catalysis_filter    1257\n",
       "uk_catalysis_hub              594\n",
       "spark_methane                  40\n",
       "co2_frontiers                  21\n",
       "Name: count, dtype: int64"
      ]
     },
     "execution_count": 15,
     "metadata": {},
     "output_type": "execute_result"
    }
   ],
   "source": [
    "# Where's the data sources from?\n",
    "standards['data_source'].value_counts()"
   ]
  },
  {
   "cell_type": "code",
   "execution_count": 14,
   "id": "5d60207f-217e-41d2-8677-05e478d33f5f",
   "metadata": {},
   "outputs": [
    {
     "data": {
      "text/plain": [
       "44"
      ]
     },
     "execution_count": 14,
     "metadata": {},
     "output_type": "execute_result"
    }
   ],
   "source": [
    "# NB. there are 44 duplicates across the data, will clean later\n",
    "len(standards.loc[standards.duplicated(['oaid'], keep='first')])"
   ]
  },
  {
   "cell_type": "code",
   "execution_count": 16,
   "id": "7059ad52-f249-4614-b6cc-e52a25644442",
   "metadata": {},
   "outputs": [
    {
     "data": {
      "text/plain": [
       "review_check\n",
       "False    3299\n",
       "True      557\n",
       "Name: count, dtype: int64"
      ]
     },
     "execution_count": 16,
     "metadata": {},
     "output_type": "execute_result"
    }
   ],
   "source": [
    "# Review paper or not? Checked via type metadata and search for word 'review'.\n",
    "standards['review_check'].value_counts()"
   ]
  },
  {
   "cell_type": "code",
   "execution_count": 17,
   "id": "40ecc3fe-0f80-4f75-a29b-45b1284b312c",
   "metadata": {},
   "outputs": [
    {
     "data": {
      "text/plain": [
       "catalysis_type\n",
       "unknown          1905\n",
       "bio               495\n",
       "photo             465\n",
       "electro           367\n",
       "hetero            266\n",
       "homo              237\n",
       "organo            117\n",
       "not_catalysis       4\n",
       "Name: count, dtype: int64"
      ]
     },
     "execution_count": 17,
     "metadata": {},
     "output_type": "execute_result"
    }
   ],
   "source": [
    "# Which broad type of catalysis, if known\n",
    "standards['catalysis_type'].value_counts()"
   ]
  },
  {
   "cell_type": "code",
   "execution_count": 19,
   "id": "976844db-ad90-48c5-b387-c8cab0e19d99",
   "metadata": {},
   "outputs": [
    {
     "data": {
      "text/plain": [
       "application_theme\n",
       "unknown            2873\n",
       "co2 utilisation     341\n",
       "enzyme              251\n",
       "biomass             187\n",
       "methane             121\n",
       "ammonium             74\n",
       "water                 9\n",
       "Name: count, dtype: int64"
      ]
     },
     "execution_count": 19,
     "metadata": {},
     "output_type": "execute_result"
    }
   ],
   "source": [
    "# Which relevant application (some neglected), if known\n",
    "standards['application_theme'].value_counts()"
   ]
  },
  {
   "cell_type": "code",
   "execution_count": 20,
   "id": "4140ad78-be73-42d1-8224-53201e94e170",
   "metadata": {},
   "outputs": [
    {
     "data": {
      "text/plain": [
       "standard_class\n",
       "background       1701\n",
       "soft_postive     1008\n",
       "soft_positive     552\n",
       "soft_negative     534\n",
       "hard_positive      31\n",
       "hard_negative      30\n",
       "Name: count, dtype: int64"
      ]
     },
     "execution_count": 20,
     "metadata": {},
     "output_type": "execute_result"
    }
   ],
   "source": [
    "# Type of standard - soft= title/abstract not manually checked; negative=unrelated or not relevant (could be review); hard=manually checked title/abstract; background=general catalysis (could be more or less relevant)\n",
    "standards['standard_class'].value_counts()"
   ]
  },
  {
   "cell_type": "code",
   "execution_count": 21,
   "id": "26aa8444-3f5b-4c41-841b-f582cf7b83fb",
   "metadata": {},
   "outputs": [
    {
     "data": {
      "text/plain": [
       "cited_by_patent\n",
       "unknown    1768\n",
       "FALSE      1138\n",
       "TRUE        950\n",
       "Name: count, dtype: int64"
      ]
     },
     "execution_count": 21,
     "metadata": {},
     "output_type": "execute_result"
    }
   ],
   "source": [
    "# Cited by patent or not, if known according to Lens\n",
    "standards['cited_by_patent'].value_counts()"
   ]
  },
  {
   "cell_type": "code",
   "execution_count": 22,
   "id": "b0e2515e-49cf-4c77-b531-2bbf4079e5f3",
   "metadata": {},
   "outputs": [
    {
     "data": {
      "text/plain": [
       "study_depth\n",
       "none        3795\n",
       "abstract      61\n",
       "Name: count, dtype: int64"
      ]
     },
     "execution_count": 22,
     "metadata": {},
     "output_type": "execute_result"
    }
   ],
   "source": [
    "# Has CJW read abstract or not yet\n",
    "standards['study_depth'].value_counts()"
   ]
  },
  {
   "cell_type": "code",
   "execution_count": 23,
   "id": "e7b6b87c-3bbb-43be-a856-3532c226748f",
   "metadata": {},
   "outputs": [
    {
     "data": {
      "text/plain": [
       "year\n",
       "2019.0    937\n",
       "2018.0    578\n",
       "2017.0    491\n",
       "2016.0    433\n",
       "2015.0    406\n",
       "2014.0    321\n",
       "2020.0    183\n",
       "2022.0     98\n",
       "2012.0     71\n",
       "2013.0     70\n",
       "2021.0     68\n",
       "2023.0     61\n",
       "2011.0     40\n",
       "2010.0     34\n",
       "2024.0     30\n",
       "2009.0     28\n",
       "2008.0      3\n",
       "2007.0      1\n",
       "1977.0      1\n",
       "2003.0      1\n",
       "Name: count, dtype: int64"
      ]
     },
     "execution_count": 23,
     "metadata": {},
     "output_type": "execute_result"
    }
   ],
   "source": [
    "# Publication year distribution (for patenting data from Lens, deliberate filter for 2009-2019. For REF the papers are 2014-2021)\n",
    "standards['year'].value_counts()"
   ]
  },
  {
   "cell_type": "code",
   "execution_count": 24,
   "id": "bfdfe44d-e4a7-42d3-83b3-b5c1cd0bda0c",
   "metadata": {},
   "outputs": [
    {
     "data": {
      "text/plain": [
       "primary_topic_name\n",
       "Electrocatalysts for Energy Conversion                  369\n",
       "Advanced Photocatalysis Techniques                      260\n",
       "Catalytic Processes in Materials Science                231\n",
       "Metal-Organic Frameworks: Synthesis and Applications    190\n",
       "Enzyme Catalysis and Immobilization                     163\n",
       "                                                       ... \n",
       "Monoclonal and Polyclonal Antibodies Research             1\n",
       "Spectroscopy and Laser Applications                       1\n",
       "Methane Hydrates and Related Phenomena                    1\n",
       "Hybrid Renewable Energy Systems                           1\n",
       "Electrohydrodynamics and Fluid Dynamics                   1\n",
       "Name: count, Length: 260, dtype: int64"
      ]
     },
     "execution_count": 24,
     "metadata": {},
     "output_type": "execute_result"
    }
   ],
   "source": [
    "# OpenAlex topic names\n",
    "standards['primary_topic_name'].value_counts()"
   ]
  },
  {
   "cell_type": "code",
   "execution_count": null,
   "id": "93d0a6db-a0ae-4a71-aa2e-bbc85da8d74f",
   "metadata": {},
   "outputs": [],
   "source": []
  }
 ],
 "metadata": {
  "kernelspec": {
   "display_name": "Python 3 (ipykernel)",
   "language": "python",
   "name": "python3"
  },
  "language_info": {
   "codemirror_mode": {
    "name": "ipython",
    "version": 3
   },
   "file_extension": ".py",
   "mimetype": "text/x-python",
   "name": "python",
   "nbconvert_exporter": "python",
   "pygments_lexer": "ipython3",
   "version": "3.12.4"
  }
 },
 "nbformat": 4,
 "nbformat_minor": 5
}
